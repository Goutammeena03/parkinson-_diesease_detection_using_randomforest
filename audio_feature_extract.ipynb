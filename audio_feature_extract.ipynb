{
 "cells": [
  {
   "cell_type": "code",
   "execution_count": 3,
   "metadata": {},
   "outputs": [
    {
     "name": "stdout",
     "output_type": "stream",
     "text": [
      "   MDVP:Fo(Hz)  MDVP:Fhi(Hz)  MDVP:Flo(Hz)  MDVP:Jitter(%)  MDVP:Jitter(Abs)   \n",
      "0   -398.55603    145.942795     -0.906678       23.353531          4.616481  \\\n",
      "\n",
      "   MDVP:RAP   MDVP:PPQ  Jitter:DDP  \n",
      "0  3.940149 -12.990565   -9.230979  \n"
     ]
    }
   ],
   "source": [
    "# voice features extraction\n",
    "\n",
    "\n",
    "import librosa\n",
    "import pandas as pd\n",
    "import numpy as np\n",
    "from pydub import AudioSegment\n",
    "\n",
    "\n",
    "# Function to extract voice features\n",
    "def extract_voice_features(audio_file):\n",
    "    # Use librosa to extract voice features (example with MFCCs)\n",
    "    y, sr = librosa.load(audio_file)\n",
    "    mfccs = librosa.feature.mfcc(y=y, sr=sr, n_mfcc=8)\n",
    "    return np.mean(mfccs, axis=1)\n",
    "\n",
    "if __name__ == \"__main__\":\n",
    "    audio_file = \"./checking_data/audio (online-audio-converter.com).wav\"\n",
    "    extracted_features = extract_voice_features(audio_file)\n",
    "\n",
    "    # Dynamically generate columns based on the number of features extracted\n",
    "    feature_names = [\n",
    "        \"MDVP:Fo(Hz)\", \"MDVP:Fhi(Hz)\", \"MDVP:Flo(Hz)\", \"MDVP:Jitter(%)\",\n",
    "        \"MDVP:Jitter(Abs)\", \"MDVP:RAP\", \"MDVP:PPQ\", \"Jitter:DDP\",\n",
    "        \"MDVP:Shimmer\", \"MDVP:Shimmer(dB)\", \"Shimmer:APQ3\", \"Shimmer:APQ5\",\n",
    "        \"MDVP:APQ\", \"Shimmer:DDA\", \"NHR\", \"HNR\", \"status\", \"RPDE\", \"DFA\",\n",
    "        \"spread1\", \"spread2\", \"D2\", \"PPE\"\n",
    "    ]\n",
    "\n",
    "    columns = feature_names[:len(extracted_features)]  # Use the specified feature names\n",
    "\n",
    "    df = pd.DataFrame([extracted_features], columns=columns)\n",
    "    print(df)\n",
    "\n",
    "    # Save to Excel\n",
    "    df.to_excel(\"parkinson_features.xlsx\", index=False, engine='openpyxl')"
   ]
  },
  {
   "cell_type": "code",
   "execution_count": null,
   "metadata": {},
   "outputs": [],
   "source": []
  }
 ],
 "metadata": {
  "kernelspec": {
   "display_name": "Python 3",
   "language": "python",
   "name": "python3"
  },
  "language_info": {
   "codemirror_mode": {
    "name": "ipython",
    "version": 3
   },
   "file_extension": ".py",
   "mimetype": "text/x-python",
   "name": "python",
   "nbconvert_exporter": "python",
   "pygments_lexer": "ipython3",
   "version": "3.11.2"
  }
 },
 "nbformat": 4,
 "nbformat_minor": 2
}
